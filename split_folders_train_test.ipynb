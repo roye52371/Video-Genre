{
 "cells": [
  {
   "cell_type": "code",
   "execution_count": 1,
   "id": "applied-semiconductor",
   "metadata": {},
   "outputs": [
    {
     "name": "stderr",
     "output_type": "stream",
     "text": [
      "Copying files: 321 files [12:54,  2.41s/ files]\n",
      "Copying files: 321 files [12:31,  2.34s/ files]\n"
     ]
    }
   ],
   "source": [
    "import os\n",
    "import splitfolders\n",
    "#path = 'C:\\Users\\roi52\\Desktop\\folder so split dataset videogenre try\\partial_dataset'\n",
    "#dirname= os.path.dirname(path)\n",
    "#70_30\n",
    "input_folder = 'Dataset/'\n",
    "splitfolders.ratio(input_folder, output=\"Dataset70_30\", seed=1337, ratio=(0.7, 0, 0.3), group_prefix=None)\n",
    "\n",
    "#80_20\n",
    "#path = 'C:\\Users\\roi52\\Desktop\\folder so split dataset videogenre try\\partial_dataset'\n",
    "#dirname= os.path.dirname(path)\n",
    "input_folder = 'Dataset/'\n",
    "splitfolders.ratio(input_folder, output=\"Dataset80_20\", seed=1337, ratio=(0.8, 0, 0.2), group_prefix=None)"
   ]
  },
  {
   "cell_type": "code",
   "execution_count": null,
   "id": "acute-jurisdiction",
   "metadata": {},
   "outputs": [],
   "source": []
  }
 ],
 "metadata": {
  "kernelspec": {
   "display_name": "Python 3",
   "language": "python",
   "name": "python3"
  },
  "language_info": {
   "codemirror_mode": {
    "name": "ipython",
    "version": 3
   },
   "file_extension": ".py",
   "mimetype": "text/x-python",
   "name": "python",
   "nbconvert_exporter": "python",
   "pygments_lexer": "ipython3",
   "version": "3.8.0"
  }
 },
 "nbformat": 4,
 "nbformat_minor": 5
}
